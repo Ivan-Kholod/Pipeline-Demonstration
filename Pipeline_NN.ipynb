version https://git-lfs.github.com/spec/v1
oid sha256:781daaf6c44d002f58aef15dfe2c97cb60fc1e7a46011a7bc788b682a760d647
size 7322086
